{
  "nbformat": 4,
  "nbformat_minor": 0,
  "metadata": {
    "colab": {
      "name": "Practice_7_KM-01_.ipynb",
      "provenance": [],
      "collapsed_sections": []
    },
    "kernelspec": {
      "name": "python3",
      "display_name": "Python 3"
    }
  },
  "cells": [
    {
      "cell_type": "markdown",
      "metadata": {
        "id": "FMqboNwO4rVs"
      },
      "source": [
        "# **Курс \"Програмування на мові Python\"**\n",
        "\n",
        "##### Викладачі:\n",
        "##### Борисенко Павло Борисович\n",
        "##### Щьоголєв Максим Олегович\n"
      ]
    },
    {
      "cell_type": "markdown",
      "metadata": {
        "id": "A2T6MigL5Z06"
      },
      "source": [
        "## **Практичне зайняття №8**\n",
        "\n",
        "### Тема: \"Робота з функціями. Локальні та глобальні змінні\""
      ]
    },
    {
      "cell_type": "markdown",
      "metadata": {
        "id": "cfCdgK2zXm7e"
      },
      "source": [
        "### **Завдання 1 (3 бали)**\n",
        "\n",
        "**Підрахувати визначник матриці, використовуючи правило перестановок.**\n",
        "\n",
        "Функція random_matrix() призначена для створення квадратної матриці випадкових чисел. Її змінювати непотрібно.\n",
        "\n",
        "Приклад використання методу permutations() для створення списку перестановок також подається у комірці з кодом.\n",
        "\n",
        "1) Створити 3 функції: функцію створення списку перестановок, функцію підрахунку добутків та функцію підрахунку загальної суми.\n",
        "\n",
        "2) Кожна функція має супроводжуватись рядком документації, що буде коротко описувати її призначення.\n",
        "\n",
        "3) Розмірність квадратної матриці має вводитись користувачем з клавіатури. Підрахунки виконувати лише в тому разі, якщо користувач введе ціле додатне число.\n",
        "\n",
        "4) Загальний результат повинен підраховуватись за допомогою композиції функцій.\n",
        "\n",
        "За бажання можна перевірити правильність роботи програми за допомогою функції np.linalg.det(a)."
      ]
    },
    {
      "cell_type": "code",
      "metadata": {
        "id": "ifNX2M7LXm7f"
      },
      "source": [
        "import numpy as np\n",
        "import itertools\n",
        "\n",
        "\n",
        "def permutations(dim):\n",
        "    \"\"\"\n",
        "    The function create list of all posible\n",
        "    permutations of matrix size a.\n",
        "    \"\"\"\n",
        "    c=''\n",
        "    for i in range(1,dim+1):\n",
        "        c+=str(i)\n",
        "    t = list(itertools.permutations(c, dim))\n",
        "    return t\n",
        "\n",
        "def random_matrix(dim):\n",
        "    \"\"\"\n",
        "    The function generates dim x dim array of integers\n",
        "    between 0 and 10.\n",
        "    \"\"\"\n",
        "    matrix = np.random.randint(10, size = (dim, dim))\n",
        "    return matrix\n",
        "\n",
        "def multiply(dim,g):\n",
        "    \"\"\"\n",
        "    The function calculates multiplication\n",
        "    of every g values in list\n",
        "    \"\"\"\n",
        "    list1=[]\n",
        "    s=1\n",
        "    for i in permutations(g):\n",
        "        for j in range (0, g):\n",
        "            ((-1)**((int(i[j])-1)+j))*(n[j][int(i[j])-1])\n",
        "            list1.append(((-1)**((int(i[j])-1)+j))*(n[j][int(i[j])-1]))\n",
        "    z = 0\n",
        "    w = g\n",
        "    list2=[]\n",
        "    while w<=len(list1):\n",
        "        for i in range(z, w):\n",
        "            s *= list1[i]\n",
        "        list2.append(s)\n",
        "        z+=g\n",
        "        w+=g\n",
        "        s=1\n",
        "    return list2\n",
        "\n",
        "def sum(list):\n",
        "    \"\"\"\n",
        "    The function calculates\n",
        "    sum of values in list\n",
        "    \"\"\"\n",
        "    sum=0\n",
        "    for i in range(0, len(list)):\n",
        "        sum += list[i]\n",
        "    return sum\n",
        "\n",
        "\n",
        "g=int(input('Please enter dimension of matrix: '))\n",
        "if g>0:\n",
        "    n=random_matrix(g)\n",
        "    u=permutations(g)\n",
        "    p=multiply(n,g)\n",
        "    s=sum(p)\n",
        "\n",
        "    print(\"Matrix: \\n\", n)\n",
        "    print(\"Permutations: \", u)\n",
        "    print(\"Multiply: \", p)\n",
        "    print(\"Determinant of matrix: \", s)\n"
      ],
      "execution_count": 4,
      "outputs": [
        {
          "output_type": "stream",
          "name": "stdout",
          "text": [
            "Matrix: \n [[0 5 2]\n [5 2 8]\n [8 4 1]]\nPermutations:  [('1', '2', '3'), ('1', '3', '2'), ('2', '1', '3'), ('2', '3', '1'), ('3', '1', '2'), ('3', '2', '1')]\nMultiply:  [0, 0, 25, 320, 40, 32]\nDeterminant of matrix:  417\n"
          ]
        }
      ]
    },
    {
      "cell_type": "code",
      "execution_count": null,
      "metadata": {},
      "outputs": [],
      "source": []
    }
  ]
}